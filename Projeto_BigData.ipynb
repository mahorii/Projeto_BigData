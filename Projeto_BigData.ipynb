{
  "nbformat": 4,
  "nbformat_minor": 0,
  "metadata": {
    "colab": {
      "provenance": []
    },
    "kernelspec": {
      "name": "python3",
      "display_name": "Python 3"
    },
    "language_info": {
      "name": "python"
    }
  },
  "cells": [
    {
      "cell_type": "markdown",
      "source": [
        "# **Pacotes e configurações antes da execução.**"
      ],
      "metadata": {
        "id": "UrRE8XvWWNJq"
      }
    },
    {
      "cell_type": "code",
      "source": [
        "# importar o arquivo diretamente de seu google drive\n",
        "from google.colab import drive\n",
        "drive.mount('/content/drive')"
      ],
      "metadata": {
        "id": "a-xwsk3zG-j_",
        "colab": {
          "base_uri": "https://localhost:8080/"
        },
        "outputId": "4c47fd95-dee4-431f-f3ae-11dce270277d"
      },
      "execution_count": null,
      "outputs": [
        {
          "output_type": "stream",
          "name": "stdout",
          "text": [
            "Drive already mounted at /content/drive; to attempt to forcibly remount, call drive.mount(\"/content/drive\", force_remount=True).\n"
          ]
        }
      ]
    },
    {
      "cell_type": "code",
      "source": [
        "import pandas as pd"
      ],
      "metadata": {
        "id": "-HA01kBg7sJT"
      },
      "execution_count": null,
      "outputs": []
    },
    {
      "cell_type": "code",
      "source": [
        "#A primeira linha instala o Java 8 na maquina da sessão\n",
        "#A segunda faz o download do spark no link escolhido\n",
        "#A terceira extrai o arquivo baixado\n",
        "\n",
        "!apt-get install openjdk-8-jdk-headless -qq > /dev/null\n",
        "!wget -q https://dlcdn.apache.org/spark/spark-3.4.2/spark-3.4.2-bin-hadoop3.tgz\n",
        "!tar xf spark-3.4.2-bin-hadoop3.tgz"
      ],
      "metadata": {
        "id": "1SWj7KdZI9iy"
      },
      "execution_count": null,
      "outputs": []
    },
    {
      "cell_type": "code",
      "source": [
        "#E a quarta instala a biblioteca findspark para facilitar na criação da sessão spark\n",
        "\n",
        "!pip install -q findspark"
      ],
      "metadata": {
        "id": "dDtSTrSxJWP_"
      },
      "execution_count": null,
      "outputs": []
    },
    {
      "cell_type": "code",
      "source": [
        "#Agora iremos utilizar o código abaixo para configurar as variáveis de caminho de ambiente utilizando a biblioteca \"os\"\n",
        "\n",
        "import os\n",
        "\n",
        "os.environ[\"JAVA_HOME\"] = \"/usr/lib/jvm/java-8-openjdk-amd64\"\n",
        "os.environ[\"SPARK_HOME\"] = \"/content/spark-3.4.2-bin-hadoop3\""
      ],
      "metadata": {
        "id": "JIAJWsMlJlhk"
      },
      "execution_count": null,
      "outputs": []
    },
    {
      "cell_type": "code",
      "source": [
        "#criando uma copia do dataframe na minha pasta drive\n",
        "!cp /content/drive/MyDrive/Colab_Notebooks/imdb-reviews-pt-br.csv /content"
      ],
      "metadata": {
        "id": "nhiyZ3XHUjTM"
      },
      "execution_count": null,
      "outputs": []
    },
    {
      "cell_type": "code",
      "source": [
        "#importando e iniciando o findspark e importando o sparksession\n",
        "import findspark\n",
        "\n",
        "findspark.init()\n",
        "\n",
        "from pyspark.sql import SparkSession"
      ],
      "metadata": {
        "id": "gPOg7472Jyh7"
      },
      "execution_count": null,
      "outputs": []
    },
    {
      "cell_type": "code",
      "source": [
        "#criando a sessao\n",
        "spark = SparkSession.builder.master(\"local[*]\").getOrCreate()"
      ],
      "metadata": {
        "id": "imUzfBzNJ0tr"
      },
      "execution_count": null,
      "outputs": []
    },
    {
      "cell_type": "markdown",
      "source": [
        "# **Prática 01 – Somatório de IDs.**\n",
        "**Qual o valor da soma de todos os campos “id” dos filmes classificados como negativos para o banco de dados “imdb-reviews-pt-br.csv”**\n"
      ],
      "metadata": {
        "id": "MAAoG8772G4o"
      }
    },
    {
      "cell_type": "code",
      "source": [
        "#carregando o conjunto de dados\n",
        "df = spark.read.csv(\"imdb-reviews-pt-br.csv\", header=True, quote=\"\\\"\", escape=\"\\\"\", encoding=\"UTF-8\")"
      ],
      "metadata": {
        "id": "bebQI5jbVDpJ"
      },
      "execution_count": null,
      "outputs": []
    },
    {
      "cell_type": "code",
      "source": [
        "#mostrando as 20 primeiras linhas\n",
        "df.show()"
      ],
      "metadata": {
        "id": "niHK2Or1VDnG",
        "colab": {
          "base_uri": "https://localhost:8080/"
        },
        "outputId": "d2f45d62-d709-4757-ab59-1981bce51446"
      },
      "execution_count": null,
      "outputs": [
        {
          "output_type": "stream",
          "name": "stdout",
          "text": [
            "+---+--------------------+--------------------+---------+\n",
            "| id|             text_en|             text_pt|sentiment|\n",
            "+---+--------------------+--------------------+---------+\n",
            "|  1|Once again Mr. Co...|Mais uma vez, o S...|      neg|\n",
            "|  2|This is an exampl...|Este é um exemplo...|      neg|\n",
            "|  3|First of all I ha...|Primeiro de tudo ...|      neg|\n",
            "|  4|Not even the Beat...|Nem mesmo os Beat...|      neg|\n",
            "|  5|Brass pictures mo...|Filmes de fotos d...|      neg|\n",
            "|  6|A funny thing hap...|Uma coisa engraça...|      neg|\n",
            "|  7|This German horro...|Este filme de ter...|      neg|\n",
            "|  8|Being a long-time...|Sendo um fã de lo...|      neg|\n",
            "|  9|\"Tokyo Eyes\" tell...|\"Tokyo Eyes\" fala...|      neg|\n",
            "| 10|Wealthy horse ran...|Fazendeiros ricos...|      neg|\n",
            "| 11|Cage plays a drun...|Cage interpreta u...|      neg|\n",
            "| 12|First of all, I w...|Primeiro de tudo,...|      neg|\n",
            "| 13|So tell me - what...|Então me diga - q...|      neg|\n",
            "| 14|A big disappointm...|Uma grande decepç...|      neg|\n",
            "| 15|This film is abso...|Este filme é abso...|      neg|\n",
            "| 16|Heres a decidedly...|Heres um decidida...|      neg|\n",
            "| 17|At the bottom end...|Na parte inferior...|      neg|\n",
            "| 18|Earth has been de...|A terra foi destr...|      neg|\n",
            "| 19|Many people are s...|Muitas pessoas es...|      neg|\n",
            "| 20|New York family i...|A família de Nova...|      neg|\n",
            "+---+--------------------+--------------------+---------+\n",
            "only showing top 20 rows\n",
            "\n"
          ]
        }
      ]
    },
    {
      "cell_type": "code",
      "source": [
        "#print do schema\n",
        "df.printSchema()"
      ],
      "metadata": {
        "id": "HGB14JUnxfW4",
        "colab": {
          "base_uri": "https://localhost:8080/"
        },
        "outputId": "327ebfab-079d-4291-964b-6786577bd037"
      },
      "execution_count": null,
      "outputs": [
        {
          "output_type": "stream",
          "name": "stdout",
          "text": [
            "root\n",
            " |-- id: string (nullable = true)\n",
            " |-- text_en: string (nullable = true)\n",
            " |-- text_pt: string (nullable = true)\n",
            " |-- sentiment: string (nullable = true)\n",
            "\n"
          ]
        }
      ]
    },
    {
      "cell_type": "code",
      "source": [
        "#confirmando o tipo do dataframe\n",
        "type(df)"
      ],
      "metadata": {
        "id": "VmooMZWYsWLx",
        "colab": {
          "base_uri": "https://localhost:8080/"
        },
        "outputId": "a7e0eaf9-95c3-4798-ffe0-3a19584ad982"
      },
      "execution_count": null,
      "outputs": [
        {
          "output_type": "execute_result",
          "data": {
            "text/plain": [
              "pyspark.sql.dataframe.DataFrame"
            ]
          },
          "metadata": {},
          "execution_count": 12
        }
      ]
    },
    {
      "cell_type": "code",
      "source": [
        "#contando  as linhas do conjunto de dados\n",
        "df.count()"
      ],
      "metadata": {
        "id": "PzCMoTMAxxZJ",
        "colab": {
          "base_uri": "https://localhost:8080/"
        },
        "outputId": "014136ad-9518-48ea-d80a-305bcee10d9d"
      },
      "execution_count": null,
      "outputs": [
        {
          "output_type": "execute_result",
          "data": {
            "text/plain": [
              "17302"
            ]
          },
          "metadata": {},
          "execution_count": 7
        }
      ]
    },
    {
      "cell_type": "code",
      "source": [
        "# importando os métodos com funções para transformações de variáveis\n",
        "from pyspark.sql.functions import *"
      ],
      "metadata": {
        "id": "vqNAEtb9w7dG"
      },
      "execution_count": null,
      "outputs": []
    },
    {
      "cell_type": "code",
      "source": [
        "#Transformando a coluna id em integer.\n",
        "df = df.withColumn(\n",
        "    colName = 'id',\n",
        "    col = regexp_replace('id','','').cast('int')\n",
        "    )\n",
        "\n",
        "# printando o resultado\n",
        "df.select('id').printSchema()"
      ],
      "metadata": {
        "id": "HRB3c2TPwxNt"
      },
      "execution_count": null,
      "outputs": []
    },
    {
      "cell_type": "code",
      "source": [
        "#Criando variavel apenas com coluna id e sentiment\n",
        "df_Select = df.select('id','sentiment')"
      ],
      "metadata": {
        "id": "s3JfdcK2zitn"
      },
      "execution_count": null,
      "outputs": []
    },
    {
      "cell_type": "code",
      "source": [
        "#Mostrando o resultado\n",
        "df_Select.show()"
      ],
      "metadata": {
        "id": "XLFTItgZzzTg"
      },
      "execution_count": null,
      "outputs": []
    },
    {
      "cell_type": "code",
      "source": [
        "#Filtrando por sentiment = neg\n",
        "df_Neg = df_Select.where('sentiment == \"neg\" ')\n"
      ],
      "metadata": {
        "id": "VHX3UrCS0fGW"
      },
      "execution_count": null,
      "outputs": []
    },
    {
      "cell_type": "code",
      "source": [
        "#Mostrando resultado\n",
        "print(\"Palavras filtradas com sentimento = neg\")\n",
        "df_Neg.show()"
      ],
      "metadata": {
        "id": "qhsCmZhu1Dux"
      },
      "execution_count": null,
      "outputs": []
    },
    {
      "cell_type": "code",
      "source": [
        "#somando a coluna id com base no sentiment neg.\n",
        "total_neg = df_Neg.groupBy('sentiment').agg(sum('id').alias(\"Total_Id_Neg\")).orderBy('sentiment').where('sentiment == \"neg\" ')\n",
        "total_neg.show()"
      ],
      "metadata": {
        "id": "4g_nxqoAsWCy"
      },
      "execution_count": null,
      "outputs": []
    },
    {
      "cell_type": "code",
      "source": [
        "#Pegando o valor da coluna Total_Id_Neg e printando resultado\n",
        "soma_neg = total_neg.select(col(\"Total_Id_Neg\")).first()[0]\n",
        "print(f'Valor do somatorio dos ids negativos: {soma_neg}')"
      ],
      "metadata": {
        "id": "g859tz6qe-0c"
      },
      "execution_count": null,
      "outputs": []
    },
    {
      "cell_type": "markdown",
      "source": [
        "# **O valor da soma do id com base no sentiment = neg é: 459568555**"
      ],
      "metadata": {
        "id": "bhdXGPf_33tN"
      }
    },
    {
      "cell_type": "markdown",
      "source": [
        "---"
      ],
      "metadata": {
        "id": "cQuBJCBaGRYa"
      }
    },
    {
      "cell_type": "markdown",
      "source": [
        "# **Prática 02 – Diferença do número de palavras totais de português para inglês dos textos negativos**\n",
        "\n",
        "**Contar palavras dos textos negativos e achar diferença de quantidade.**"
      ],
      "metadata": {
        "id": "csvER0VBQq0z"
      }
    },
    {
      "cell_type": "code",
      "source": [
        "#selecionando a coluna desejada\n",
        "df_en = df.select('id','text_en','sentiment')\n",
        "df_pt = df.select('id','text_pt','sentiment')"
      ],
      "metadata": {
        "id": "d41EhuqpQqqo"
      },
      "execution_count": null,
      "outputs": []
    },
    {
      "cell_type": "code",
      "source": [
        "#filtrando o conjunto de dados para o sentiment = neg\n",
        "df_en = df_en.where('sentiment == \"neg\" ')\n",
        "df_pt = df_pt.where('sentiment == \"neg\" ')"
      ],
      "metadata": {
        "id": "8urZA2BrQqoN"
      },
      "execution_count": null,
      "outputs": []
    },
    {
      "cell_type": "code",
      "source": [
        "#removendo a coluna sentiment\n",
        "df_en = df_en.drop('sentiment')\n",
        "df_pt = df_pt.drop('sentiment')"
      ],
      "metadata": {
        "id": "I-C7MySuQqli"
      },
      "execution_count": null,
      "outputs": []
    },
    {
      "cell_type": "code",
      "source": [
        "df_en.show()\n",
        "df_pt.show()"
      ],
      "metadata": {
        "id": "xvCZmnRcQqiW"
      },
      "execution_count": null,
      "outputs": []
    },
    {
      "cell_type": "code",
      "source": [
        "# Usa as funções explode e split para dividir o texto em palavras\n",
        "palavras_pt = df_pt.select(\"id\", explode(split(\"text_pt\", \"[ ]+\")).alias(\"palavra\"))\n",
        "palavras_en = df_en.select(\"id\", explode(split(\"text_en\", \"[ ]+\")).alias(\"palavra\"))\n",
        "\n",
        "# Usa a função count para contar as ocorrências de cada palavra ordenando do maior para o menor\n",
        "contagem_pt = palavras_pt.groupBy(\"palavra\").count().orderBy(desc(\"count\"))\n",
        "contagem_en = palavras_en.groupBy(\"palavra\").count().orderBy(desc(\"count\"))\n",
        "\n",
        "# Mostra o resultado\n",
        "print(\"Palavras em Portugues\")\n",
        "contagem_pt.show()\n",
        "print(\"Palavras em Ingles\")\n",
        "contagem_en.show()"
      ],
      "metadata": {
        "id": "zDwRu-pukwYr"
      },
      "execution_count": null,
      "outputs": []
    },
    {
      "cell_type": "code",
      "source": [
        "#Soma dos valores\n",
        "contagem_pt.agg(sum('count').alias(\"Total_palavras_pt\")).show()\n",
        "contagem_en.agg(sum('count').alias(\"Total_palavras_en\")).show()"
      ],
      "metadata": {
        "id": "iNmrIynuKbdT"
      },
      "execution_count": null,
      "outputs": []
    },
    {
      "cell_type": "code",
      "source": [
        "#pegando os valores para fazer a subtração\n",
        "tot_pt = contagem_pt.agg(sum('count').alias(\"Total_palavras_pt\")).first()[0]\n",
        "tot_en = contagem_en.agg(sum('count').alias(\"Total_palavras_en\")).first()[0]"
      ],
      "metadata": {
        "id": "jv1H-TgqcbTN"
      },
      "execution_count": null,
      "outputs": []
    },
    {
      "cell_type": "code",
      "source": [
        "tot_pt, tot_en"
      ],
      "metadata": {
        "id": "4lPGg1IxOcJ6"
      },
      "execution_count": null,
      "outputs": []
    },
    {
      "cell_type": "code",
      "source": [
        "print(f'O texto em Portugues possui {tot_pt - tot_en} palavras a mais que o ingles')"
      ],
      "metadata": {
        "id": "fdCP9LRoC24U"
      },
      "execution_count": null,
      "outputs": []
    },
    {
      "cell_type": "markdown",
      "source": [
        "# **O texto em Portugues possui 54997 palavras a mais que o ingles**"
      ],
      "metadata": {
        "id": "2lHHdaEXpUip"
      }
    }
  ]
}